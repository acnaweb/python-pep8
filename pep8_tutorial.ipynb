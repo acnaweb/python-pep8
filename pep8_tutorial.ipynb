{
 "cells": [
  {
   "cell_type": "markdown",
   "metadata": {},
   "source": [
    "## Tutorial PEP8 na prática\n",
    "### Baseado em *https://realpython.com/python-pep8/*"
   ]
  },
  {
   "cell_type": "code",
   "execution_count": 28,
   "metadata": {},
   "outputs": [],
   "source": [
    "# functions: Use a lowercase word or words. Separate words by underscores to improve readability.\n",
    "def imprimir_dados(par1):\n",
    "    # constant: Use an uppercase single letter, word, or words. Separate words with underscores to improve readability.\n",
    "    MY_CONSTANT = 123\n",
    "    \n",
    "    # variable: Use a lowercase single letter, word, or words. Separate words with underscores to improve readability.\n",
    "    my_variable = \"Exemplo de variavel\"\n",
    "    \n",
    "    print(par1, MY_CONSTANT, my_variable, sep = \"|\")\n",
    "    "
   ]
  },
  {
   "cell_type": "code",
   "execution_count": 24,
   "metadata": {},
   "outputs": [],
   "source": [
    "# classes: Start each word with a capital letter. Do not separate words with underscores. This style is called camel case.\n",
    "class MyClass:\n",
    "    def __init__(self):\n",
    "        pass\n",
    "        \n",
    "    def executar_segunda_func(self, par1):\n",
    "        self.imprimir(par1, \"par2\")\n",
    "    \n",
    "    def imprimir(self, par1, par2):\n",
    "        print(par1, par2, sep= \" \")"
   ]
  },
  {
   "cell_type": "code",
   "execution_count": 18,
   "metadata": {},
   "outputs": [],
   "source": []
  },
  {
   "cell_type": "code",
   "execution_count": 30,
   "metadata": {},
   "outputs": [
    {
     "name": "stdout",
     "output_type": "stream",
     "text": [
      "Primeiro argumento|123|Exemplo de variavel\n"
     ]
    }
   ],
   "source": [
    "imprimir_dados(\"Primeiro argumento\")"
   ]
  },
  {
   "cell_type": "code",
   "execution_count": 25,
   "metadata": {},
   "outputs": [
    {
     "name": "stdout",
     "output_type": "stream",
     "text": [
      "val1 par2\n"
     ]
    }
   ],
   "source": [
    "obj = MyClass()\n",
    "obj.executar_segunda_func(\"val1\")"
   ]
  }
 ],
 "metadata": {
  "kernelspec": {
   "display_name": "Python 3",
   "language": "python",
   "name": "python3"
  },
  "language_info": {
   "codemirror_mode": {
    "name": "ipython",
    "version": 3
   },
   "file_extension": ".py",
   "mimetype": "text/x-python",
   "name": "python",
   "nbconvert_exporter": "python",
   "pygments_lexer": "ipython3",
   "version": "3.7.9"
  }
 },
 "nbformat": 4,
 "nbformat_minor": 4
}
